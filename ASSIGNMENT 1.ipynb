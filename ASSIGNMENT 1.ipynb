{
 "cells": [
  {
   "cell_type": "markdown",
   "id": "92974018-84d7-49a5-8045-adca330a6b84",
   "metadata": {},
   "source": [
    "# --------------------------------ASSIGNMENT 1----------------------------------"
   ]
  },
  {
   "cell_type": "markdown",
   "id": "d7eb315c-7f85-476c-992d-d6b545478f36",
   "metadata": {},
   "source": [
    "1. Write a Python program to print \"Hello Python\"?"
   ]
  },
  {
   "cell_type": "code",
   "execution_count": 3,
   "id": "1d188977-d69e-4a12-b53d-1b4339a7231c",
   "metadata": {},
   "outputs": [
    {
     "name": "stdout",
     "output_type": "stream",
     "text": [
      "Hello Python\n"
     ]
    }
   ],
   "source": [
    "print(\"Hello Python\")"
   ]
  },
  {
   "cell_type": "markdown",
   "id": "76ba98d4-fdb1-4365-ad3b-2a693b1ce640",
   "metadata": {},
   "source": [
    "2. Write a Python program to do arithmetical operations addition and division.?"
   ]
  },
  {
   "cell_type": "code",
   "execution_count": 14,
   "id": "42ac7689-3828-4ef4-9f37-bad6653edb83",
   "metadata": {},
   "outputs": [
    {
     "name": "stdout",
     "output_type": "stream",
     "text": [
      "Addition is : 50\n",
      "Division is : 1.5\n"
     ]
    }
   ],
   "source": [
    "number1 = 30\n",
    "number2 = 20\n",
    "total = number1+number2\n",
    "division = number1/number2\n",
    "print(\"Addition is :\",total)\n",
    "print(\"Division is :\",division)\n"
   ]
  },
  {
   "cell_type": "markdown",
   "id": "c59d24cd-2e71-4a7f-b672-1814c2b84371",
   "metadata": {},
   "source": [
    "3. Write a Python program to find the area of a triangle?"
   ]
  },
  {
   "cell_type": "code",
   "execution_count": 18,
   "id": "1ca1a6ba-fc04-41ab-9f44-3b116a2955f0",
   "metadata": {},
   "outputs": [
    {
     "name": "stdin",
     "output_type": "stream",
     "text": [
      "Enter the value of base: 20\n",
      "Enter the value of height: 30\n"
     ]
    },
    {
     "name": "stdout",
     "output_type": "stream",
     "text": [
      "Area of the triangle is: 300.0\n"
     ]
    }
   ],
   "source": [
    "# area of triangle = 1/2*base*height\n",
    "\n",
    "base = int(input(\"Enter the value of base:\"))\n",
    "height = int(input(\"Enter the value of height:\"))\n",
    "area = 1/2*(base)*height\n",
    "print(\"Area of the triangle is:\",area)"
   ]
  },
  {
   "cell_type": "markdown",
   "id": "9756bafc-831e-4a57-8434-d8cba3862af6",
   "metadata": {},
   "source": [
    "4. Write a Python program to swap two variables?"
   ]
  },
  {
   "cell_type": "code",
   "execution_count": 23,
   "id": "a7b887e7-adbd-4d8f-b951-132e9efa6295",
   "metadata": {},
   "outputs": [
    {
     "name": "stdout",
     "output_type": "stream",
     "text": [
      "First variable value : 30\n",
      "Second variable value : 20\n"
     ]
    }
   ],
   "source": [
    "first_variable = 20\n",
    "second_variable = 30\n",
    "first_variable,second_variable = second_variable,first_variable\n",
    "\n",
    "print(\"First variable value :\",first_variable)\n",
    "print(\"Second variable value :\",second_variable)"
   ]
  },
  {
   "cell_type": "markdown",
   "id": "0473159a-5259-44c4-af7d-97f3570d2efd",
   "metadata": {},
   "source": [
    "5. Write a Python program to generate a random number?"
   ]
  },
  {
   "cell_type": "code",
   "execution_count": 30,
   "id": "dd29385c-1965-408e-9fcc-cad0e1775811",
   "metadata": {},
   "outputs": [
    {
     "data": {
      "text/plain": [
       "0.8835057129470401"
      ]
     },
     "execution_count": 30,
     "metadata": {},
     "output_type": "execute_result"
    }
   ],
   "source": [
    "import random\n",
    "random.random()"
   ]
  },
  {
   "cell_type": "code",
   "execution_count": 32,
   "id": "8644ba19-6fd7-486d-9370-a8bf4073d507",
   "metadata": {},
   "outputs": [
    {
     "data": {
      "text/plain": [
       "2642"
      ]
     },
     "execution_count": 32,
     "metadata": {},
     "output_type": "execute_result"
    }
   ],
   "source": [
    "import random\n",
    "random.randint(1000,9999)"
   ]
  },
  {
   "cell_type": "code",
   "execution_count": 34,
   "id": "dd8911c9-cb28-4a58-97ec-cf6494cb9dfc",
   "metadata": {},
   "outputs": [
    {
     "name": "stdout",
     "output_type": "stream",
     "text": [
      "9\n"
     ]
    }
   ],
   "source": [
    "import random\n",
    "print(random.randrange(1,50,2))"
   ]
  },
  {
   "cell_type": "code",
   "execution_count": null,
   "id": "fe850904-8f13-4705-a35e-aeeb6885f08b",
   "metadata": {},
   "outputs": [],
   "source": []
  }
 ],
 "metadata": {
  "kernelspec": {
   "display_name": "Python [conda env:base] *",
   "language": "python",
   "name": "conda-base-py"
  },
  "language_info": {
   "codemirror_mode": {
    "name": "ipython",
    "version": 3
   },
   "file_extension": ".py",
   "mimetype": "text/x-python",
   "name": "python",
   "nbconvert_exporter": "python",
   "pygments_lexer": "ipython3",
   "version": "3.12.7"
  }
 },
 "nbformat": 4,
 "nbformat_minor": 5
}
