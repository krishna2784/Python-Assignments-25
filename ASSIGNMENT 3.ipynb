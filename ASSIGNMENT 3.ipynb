{
 "cells": [
  {
   "cell_type": "markdown",
   "id": "b353cfe4-489e-4789-9b24-f1e0b311b008",
   "metadata": {},
   "source": [
    "# -------------------------------ASSIGNMENT 3-------------------------------------"
   ]
  },
  {
   "cell_type": "markdown",
   "id": "4c6140e0-d024-4a0a-870d-73b7a0253b39",
   "metadata": {},
   "source": [
    "1. Write a Python Program to Check if a Number is Positive, Negative or Zero?"
   ]
  },
  {
   "cell_type": "code",
   "execution_count": 36,
   "id": "060a198c-91c2-4118-8df6-ea10a787c7a5",
   "metadata": {},
   "outputs": [
    {
     "name": "stdin",
     "output_type": "stream",
     "text": [
      "Enter your number : 65\n"
     ]
    },
    {
     "name": "stdout",
     "output_type": "stream",
     "text": [
      "Positive\n"
     ]
    }
   ],
   "source": [
    "def number_checker(number):\n",
    "    if number > 0:\n",
    "        return \"Positive\"\n",
    "    if number < 0:\n",
    "        return \"Negative\"\n",
    "    if number == 0:\n",
    "        return \"Number is zero\"\n",
    "try:\n",
    "    number = int(input(\"Enter your number :\"))\n",
    "    print(number_checker(number))\n",
    "except Exception as e:\n",
    "    print(\"only numbers are allowed\",e)"
   ]
  },
  {
   "cell_type": "markdown",
   "id": "ae425da4-b139-4be4-84ff-2d512c719254",
   "metadata": {},
   "source": [
    "2. Write a Python Program to Check if a Number is Odd or Even?"
   ]
  },
  {
   "cell_type": "code",
   "execution_count": 19,
   "id": "d461200b-5938-4334-811f-92960c85828e",
   "metadata": {},
   "outputs": [
    {
     "name": "stdin",
     "output_type": "stream",
     "text": [
      "Enter your number to check even or odd : 66\n"
     ]
    },
    {
     "name": "stdout",
     "output_type": "stream",
     "text": [
      "Even number\n"
     ]
    }
   ],
   "source": [
    "def even_or_odd(number):\n",
    "    if number % 2 == 0:\n",
    "        return \"Even number\"\n",
    "    if number % 2 != 0:\n",
    "        return \"Odd number\"\n",
    "\n",
    "try:\n",
    "    number = int(input(\"Enter your number to check even or odd :\"))\n",
    "    print(even_or_odd(number))\n",
    "except Exception as e:\n",
    "    print(\"Only numbers are allowed\",e)\n",
    "    "
   ]
  },
  {
   "cell_type": "markdown",
   "id": "e74a6fe8-66dc-4949-bdcc-55d3c066561c",
   "metadata": {},
   "source": [
    "3. Write a Python Program to Check Leap Year?"
   ]
  },
  {
   "cell_type": "code",
   "execution_count": 41,
   "id": "64a86012-c03c-41af-b65d-de973e3c209e",
   "metadata": {},
   "outputs": [
    {
     "name": "stdin",
     "output_type": "stream",
     "text": [
      "Enter a year : 2025\n"
     ]
    },
    {
     "name": "stdout",
     "output_type": "stream",
     "text": [
      "2025 is not a leap year\n"
     ]
    }
   ],
   "source": [
    "def leap_year(year):\n",
    "    if (year % 4 == 0 and year % 100 != 0) or (year % 400 == 0):\n",
    "        return True\n",
    "    else:\n",
    "        return False\n",
    "\n",
    "year = int(input(\"Enter a year :\"))\n",
    "if leap_year(year):    \n",
    "    print(f\"{year} is a leap year\")\n",
    "else:\n",
    "    print(f\"{year} is not a leap year\")\n",
    "    \n"
   ]
  },
  {
   "cell_type": "markdown",
   "id": "c459cfa9-523e-4a83-a4e2-0406961fd1a6",
   "metadata": {},
   "source": [
    "4. Write a Python Program to Check Prime Number?"
   ]
  },
  {
   "cell_type": "code",
   "execution_count": 35,
   "id": "11219dc6-79ec-4def-a0d6-656aecf65261",
   "metadata": {},
   "outputs": [
    {
     "name": "stdin",
     "output_type": "stream",
     "text": [
      "Enter your number : 75\n"
     ]
    },
    {
     "name": "stdout",
     "output_type": "stream",
     "text": [
      "Not a Prime number\n"
     ]
    }
   ],
   "source": [
    "number = int(input(\"Enter your number :\"))\n",
    "for i in range(2,number):\n",
    "    if number % i == 0:\n",
    "        print(\"Not a Prime number\")\n",
    "        break\n",
    "else:\n",
    "        print(\"Prime number\")"
   ]
  },
  {
   "cell_type": "markdown",
   "id": "eae517f9-896c-4ce8-9e61-3941142a5152",
   "metadata": {},
   "source": [
    "5. Write a Python Program to Print all Prime Numbers in an Interval of 1-1000?"
   ]
  },
  {
   "cell_type": "code",
   "execution_count": 76,
   "id": "f434a202-efac-40c7-9926-3904e2379e44",
   "metadata": {},
   "outputs": [
    {
     "name": "stdin",
     "output_type": "stream",
     "text": [
      "Enter first range : 1\n",
      "Enter last range : 1000\n"
     ]
    },
    {
     "name": "stdout",
     "output_type": "stream",
     "text": [
      "[1, 2, 3, 5, 7, 11, 13, 17, 19, 23, 29, 31, 37, 41, 43, 47, 53, 59, 61, 67, 71, 73, 79, 83, 89, 97, 101, 103, 107, 109, 113, 127, 131, 137, 139, 149, 151, 157, 163, 167, 173, 179, 181, 191, 193, 197, 199, 211, 223, 227, 229, 233, 239, 241, 251, 257, 263, 269, 271, 277, 281, 283, 293, 307, 311, 313, 317, 331, 337, 347, 349, 353, 359, 367, 373, 379, 383, 389, 397, 401, 409, 419, 421, 431, 433, 439, 443, 449, 457, 461, 463, 467, 479, 487, 491, 499, 503, 509, 521, 523, 541, 547, 557, 563, 569, 571, 577, 587, 593, 599, 601, 607, 613, 617, 619, 631, 641, 643, 647, 653, 659, 661, 673, 677, 683, 691, 701, 709, 719, 727, 733, 739, 743, 751, 757, 761, 769, 773, 787, 797, 809, 811, 821, 823, 827, 829, 839, 853, 857, 859, 863, 877, 881, 883, 887, 907, 911, 919, 929, 937, 941, 947, 953, 967, 971, 977, 983, 991, 997]\n",
      "\n",
      "76128\n"
     ]
    }
   ],
   "source": [
    "def list_maker(first_range,last_range):\n",
    "    prime_number_list = []\n",
    "    for j in range(first_range,last_range):\n",
    "        \n",
    "        for i in range(2,int(j**.5)+1):\n",
    "            if j % i == 0:\n",
    "                break\n",
    "        else:\n",
    "            prime_number_list.append(j)\n",
    "    print(prime_number_list)\n",
    "    print()\n",
    "    print(sum(prime_number_list))\n",
    "\n",
    "try:\n",
    "\n",
    "    first_range = int(input(\"Enter first range :\"))\n",
    "    last_range = int(input(\"Enter last range :\"))\n",
    "    list_maker(first_range,last_range)\n",
    "\n",
    "except exception:\n",
    "    print(\"only numbers are allowed\")"
   ]
  },
  {
   "cell_type": "code",
   "execution_count": null,
   "id": "c5d231d0-7bea-4b3a-8343-01f8dd61456c",
   "metadata": {},
   "outputs": [],
   "source": []
  }
 ],
 "metadata": {
  "kernelspec": {
   "display_name": "Python [conda env:base] *",
   "language": "python",
   "name": "conda-base-py"
  },
  "language_info": {
   "codemirror_mode": {
    "name": "ipython",
    "version": 3
   },
   "file_extension": ".py",
   "mimetype": "text/x-python",
   "name": "python",
   "nbconvert_exporter": "python",
   "pygments_lexer": "ipython3",
   "version": "3.12.7"
  }
 },
 "nbformat": 4,
 "nbformat_minor": 5
}
