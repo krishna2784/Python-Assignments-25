{
 "cells": [
  {
   "cell_type": "markdown",
   "id": "84677190-9b5f-41c6-a212-a55e4cf0987d",
   "metadata": {},
   "source": [
    "# -----------------------------ASSIGNMENT 2--------------------------------------"
   ]
  },
  {
   "cell_type": "markdown",
   "id": "5ac7d953-025f-43ef-b698-ce7e4a1166bc",
   "metadata": {},
   "source": [
    "1. Write a Python program to convert kilometers to miles?"
   ]
  },
  {
   "cell_type": "code",
   "execution_count": 10,
   "id": "cbf8a425-295f-4d2b-bfd9-8cdbf0f19481",
   "metadata": {},
   "outputs": [
    {
     "name": "stdin",
     "output_type": "stream",
     "text": [
      "Enter the value of kilometer : 12\n"
     ]
    },
    {
     "name": "stdout",
     "output_type": "stream",
     "text": [
      "Miles is in 12km are : 7.452\n"
     ]
    }
   ],
   "source": [
    "kilometer = int(input(\"Enter the value of kilometer :\"))\n",
    "\n",
    "# 1 kilometer = 0.621 miles\n",
    "\n",
    "miles = kilometer*.621\n",
    "print(f\"Miles is in {kilometer}km are : {miles}\")"
   ]
  },
  {
   "cell_type": "code",
   "execution_count": 16,
   "id": "f4a44b41-067b-4de1-a0d8-54cd3e32deba",
   "metadata": {},
   "outputs": [
    {
     "name": "stdin",
     "output_type": "stream",
     "text": [
      "Enter your kilometer 12\n"
     ]
    },
    {
     "name": "stdout",
     "output_type": "stream",
     "text": [
      "Miles is in 12km are : 7.452\n"
     ]
    }
   ],
   "source": [
    "def km_to_miles(kilomter):\n",
    "    miles = kilometer*.621\n",
    "    print(f\"Miles is in {kilometer}km are : {miles}\")\n",
    "\n",
    "kilometer = int(input(\"Enter your kilometer\"))\n",
    "km_to_miles(kilometer)"
   ]
  },
  {
   "cell_type": "markdown",
   "id": "c0b38a91-422a-400b-a7a1-0a3b3e89d09b",
   "metadata": {},
   "source": [
    "2. Write a Python program to convert Celsius to Fahrenheit?"
   ]
  },
  {
   "cell_type": "code",
   "execution_count": 21,
   "id": "8bb8bc18-5c99-416e-899f-60039d04bf27",
   "metadata": {},
   "outputs": [
    {
     "name": "stdin",
     "output_type": "stream",
     "text": [
      "Enter the value of your celcius 12\n"
     ]
    },
    {
     "name": "stdout",
     "output_type": "stream",
     "text": [
      "Fahrenheit is in 12 are : 53.6\n"
     ]
    }
   ],
   "source": [
    "celcius = int(input(\"Enter the value of your celcius\"))\n",
    "fahrenheit = (celcius * 9/5) + 32\n",
    "print(f\"Fahrenheit is in {celcius} are : {fahrenheit}\")"
   ]
  },
  {
   "cell_type": "code",
   "execution_count": 64,
   "id": "955657d0-e8dc-434e-86f4-241f0ab7a680",
   "metadata": {},
   "outputs": [
    {
     "name": "stdin",
     "output_type": "stream",
     "text": [
      "Enter temperature in Celsius:  12\n"
     ]
    },
    {
     "name": "stdout",
     "output_type": "stream",
     "text": [
      "12.0°C is equal to 53.6°F\n"
     ]
    }
   ],
   "source": [
    "def celsius_to_fahrenheit(celsius):\n",
    "    fahrenheit = (celsius * 9/5) + 32\n",
    "    return fahrenheit\n",
    "\n",
    "# Input: Celsius temperature from the user\n",
    "celsius = float(input(\"Enter temperature in Celsius: \"))\n",
    "\n",
    "# Convert Celsius to Fahrenheit\n",
    "fahrenheit = celsius_to_fahrenheit(celsius)\n",
    "\n",
    "# Output the result\n",
    "print(f\"{celsius}°C is equal to {fahrenheit}°F\")"
   ]
  },
  {
   "cell_type": "markdown",
   "id": "ca210cc4-62c8-4754-9f82-4190a816d71f",
   "metadata": {},
   "source": [
    "3. Write a Python program to display calendar?"
   ]
  },
  {
   "cell_type": "code",
   "execution_count": 36,
   "id": "8f203732-6d9f-49ea-aae0-66f3fe1be636",
   "metadata": {},
   "outputs": [
    {
     "name": "stdout",
     "output_type": "stream",
     "text": [
      "                                               2025\n",
      "\n",
      "      January                   February                   March                     April\n",
      "Mo Tu We Th Fr Sa Su      Mo Tu We Th Fr Sa Su      Mo Tu We Th Fr Sa Su      Mo Tu We Th Fr Sa Su\n",
      "       1  2  3  4  5                      1  2                      1  2          1  2  3  4  5  6\n",
      " 6  7  8  9 10 11 12       3  4  5  6  7  8  9       3  4  5  6  7  8  9       7  8  9 10 11 12 13\n",
      "13 14 15 16 17 18 19      10 11 12 13 14 15 16      10 11 12 13 14 15 16      14 15 16 17 18 19 20\n",
      "20 21 22 23 24 25 26      17 18 19 20 21 22 23      17 18 19 20 21 22 23      21 22 23 24 25 26 27\n",
      "27 28 29 30 31            24 25 26 27 28            24 25 26 27 28 29 30      28 29 30\n",
      "                                                    31\n",
      "\n",
      "        May                       June                      July                     August\n",
      "Mo Tu We Th Fr Sa Su      Mo Tu We Th Fr Sa Su      Mo Tu We Th Fr Sa Su      Mo Tu We Th Fr Sa Su\n",
      "          1  2  3  4                         1          1  2  3  4  5  6                   1  2  3\n",
      " 5  6  7  8  9 10 11       2  3  4  5  6  7  8       7  8  9 10 11 12 13       4  5  6  7  8  9 10\n",
      "12 13 14 15 16 17 18       9 10 11 12 13 14 15      14 15 16 17 18 19 20      11 12 13 14 15 16 17\n",
      "19 20 21 22 23 24 25      16 17 18 19 20 21 22      21 22 23 24 25 26 27      18 19 20 21 22 23 24\n",
      "26 27 28 29 30 31         23 24 25 26 27 28 29      28 29 30 31               25 26 27 28 29 30 31\n",
      "                          30\n",
      "\n",
      "     September                  October                   November                  December\n",
      "Mo Tu We Th Fr Sa Su      Mo Tu We Th Fr Sa Su      Mo Tu We Th Fr Sa Su      Mo Tu We Th Fr Sa Su\n",
      " 1  2  3  4  5  6  7             1  2  3  4  5                      1  2       1  2  3  4  5  6  7\n",
      " 8  9 10 11 12 13 14       6  7  8  9 10 11 12       3  4  5  6  7  8  9       8  9 10 11 12 13 14\n",
      "15 16 17 18 19 20 21      13 14 15 16 17 18 19      10 11 12 13 14 15 16      15 16 17 18 19 20 21\n",
      "22 23 24 25 26 27 28      20 21 22 23 24 25 26      17 18 19 20 21 22 23      22 23 24 25 26 27 28\n",
      "29 30                     27 28 29 30 31            24 25 26 27 28 29 30      29 30 31\n",
      "\n"
     ]
    }
   ],
   "source": [
    "import calendar\n",
    "\n",
    "print(calendar.calendar(2025,m=4))"
   ]
  },
  {
   "cell_type": "code",
   "execution_count": 38,
   "id": "bd1d7967-f9fb-463a-af42-95fce378c93a",
   "metadata": {},
   "outputs": [
    {
     "name": "stdout",
     "output_type": "stream",
     "text": [
      "    January 2025\n",
      "Mo Tu We Th Fr Sa Su\n",
      "       1  2  3  4  5\n",
      " 6  7  8  9 10 11 12\n",
      "13 14 15 16 17 18 19\n",
      "20 21 22 23 24 25 26\n",
      "27 28 29 30 31\n",
      "\n"
     ]
    }
   ],
   "source": [
    "print(calendar.month(2025,1))"
   ]
  },
  {
   "cell_type": "markdown",
   "id": "e2f270a3-84aa-4481-95eb-3c350de1780d",
   "metadata": {},
   "source": [
    "4. Write a Python program to solve quadratic equation?"
   ]
  },
  {
   "cell_type": "code",
   "execution_count": 84,
   "id": "407a05a5-7d10-450d-9d03-0c64d52b4482",
   "metadata": {},
   "outputs": [
    {
     "name": "stdin",
     "output_type": "stream",
     "text": [
      "Enter value A : 2\n",
      "Enter value B : 5\n",
      "Enter value C : 7\n"
     ]
    },
    {
     "name": "stdout",
     "output_type": "stream",
     "text": [
      "First root is : (-1.25-1.3919410907075054j)\n",
      "Second root is : (-1.25+1.3919410907075054j)\n"
     ]
    }
   ],
   "source": [
    "import cmath\n",
    "\n",
    "a = int(input(\"Enter value A :\"))\n",
    "b = int(input(\"Enter value B :\"))\n",
    "c = int(input(\"Enter value C :\"))\n",
    "\n",
    "dis = (b**2) - (4*a*c)\n",
    "\n",
    "first_root = (-b - cmath.sqrt(dis))/(2*a)\n",
    "second_root = (-b + cmath.sqrt(dis))/(2*a)\n",
    "\n",
    "print(\"First root is :\",first_root)\n",
    "print(\"Second root is :\",second_root)\n"
   ]
  },
  {
   "cell_type": "code",
   "execution_count": null,
   "id": "659ea126-9792-4e9d-8a8c-e29f65f6a4ef",
   "metadata": {},
   "outputs": [],
   "source": []
  }
 ],
 "metadata": {
  "kernelspec": {
   "display_name": "Python [conda env:base] *",
   "language": "python",
   "name": "conda-base-py"
  },
  "language_info": {
   "codemirror_mode": {
    "name": "ipython",
    "version": 3
   },
   "file_extension": ".py",
   "mimetype": "text/x-python",
   "name": "python",
   "nbconvert_exporter": "python",
   "pygments_lexer": "ipython3",
   "version": "3.12.7"
  }
 },
 "nbformat": 4,
 "nbformat_minor": 5
}
