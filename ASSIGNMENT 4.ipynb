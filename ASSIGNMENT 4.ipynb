{
 "cells": [
  {
   "cell_type": "markdown",
   "id": "8b4765a1-85f7-48b6-9fc5-1f0535db2d33",
   "metadata": {},
   "source": [
    "# ----------------------------ASSIGNMENT 4----------------------------"
   ]
  },
  {
   "cell_type": "markdown",
   "id": "3d9faa08-9b43-4a96-8bc1-52ff0cebed6a",
   "metadata": {},
   "source": [
    "1. Write a Python Program to Find the Factorial of a Number?"
   ]
  },
  {
   "cell_type": "code",
   "execution_count": 25,
   "id": "1200e844-33c8-4340-98d9-b42beee33463",
   "metadata": {},
   "outputs": [
    {
     "name": "stdout",
     "output_type": "stream",
     "text": [
      "720\n"
     ]
    }
   ],
   "source": [
    "def factorial(number):\n",
    "    factorial = 1\n",
    "    for i in range(6,1,-1):\n",
    "        factorial = factorial*i\n",
    "    print(factorial)\n",
    "factorial(6)\n"
   ]
  },
  {
   "cell_type": "markdown",
   "id": "97a8c4af-7d76-40c6-8a23-0aba3e31915f",
   "metadata": {},
   "source": [
    "2. Write a Python Program to Display the multiplication Table?"
   ]
  },
  {
   "cell_type": "code",
   "execution_count": 23,
   "id": "bb76931f-2454-4362-ad83-58b512e9d4c6",
   "metadata": {},
   "outputs": [
    {
     "name": "stdout",
     "output_type": "stream",
     "text": [
      "Enter your number : 10\n"
     ]
    },
    {
     "name": "stdout",
     "output_type": "stream",
     "text": [
      "10 x 1 = 10\n",
      "10 x 2 = 20\n",
      "10 x 3 = 30\n",
      "10 x 4 = 40\n",
      "10 x 5 = 50\n",
      "10 x 6 = 60\n",
      "10 x 7 = 70\n",
      "10 x 8 = 80\n",
      "10 x 9 = 90\n",
      "10 x 10 = 100\n"
     ]
    }
   ],
   "source": [
    "def table(number):\n",
    "    \n",
    "    number = int(input(\"Enter your number :\"))\n",
    "    for i in range(1,11):\n",
    "        print(f\"{number} x {i} = {number*i}\")\n",
    "        \n",
    "if __name__ == \"__main__\":\n",
    "    try:\n",
    "        table(number)\n",
    "    except Exception as e:\n",
    "        print(\"only integers are allowed\")\n",
    "        "
   ]
  },
  {
   "cell_type": "markdown",
   "id": "f07d5b47-951b-48e7-bf3e-65e208fd3cbd",
   "metadata": {},
   "source": [
    "3. Write a Python Program to Print the Fibonacci sequence?"
   ]
  },
  {
   "cell_type": "code",
   "execution_count": 15,
   "id": "95528f23-9d1a-4414-aca0-33e6c0d210b4",
   "metadata": {},
   "outputs": [
    {
     "name": "stdout",
     "output_type": "stream",
     "text": [
      "Enter the first term of your sequence : 0\n",
      "Enter the second term of the sequence : 1\n",
      "Enter the no. of terms of the sequence : 10\n"
     ]
    },
    {
     "name": "stdout",
     "output_type": "stream",
     "text": [
      "0\n",
      "1\n",
      "1\n",
      "2\n",
      "3\n",
      "5\n",
      "8\n",
      "13\n",
      "21\n",
      "34\n"
     ]
    }
   ],
   "source": [
    "def fibonacci_seq(start, nextterm, stop):\n",
    "    while stop != 0:\n",
    "        print(start)\n",
    "        start,nextterm = nextterm, start+nextterm\n",
    "        stop-=1\n",
    "\n",
    "try:\n",
    "    start = int(input(\"Enter the first term of your sequence :\"))\n",
    "    nextterm = int(input(\"Enter the second term of the sequence :\"))\n",
    "    stop = int(input(\"Enter the no. of terms of the sequence :\"))\n",
    "    fibonacci_seq(start, nextterm, stop)\n",
    "except Exception as e:\n",
    "    print(\"only numbers are allowed\",e)"
   ]
  },
  {
   "cell_type": "code",
   "execution_count": 22,
   "id": "233082a6-8884-4c01-ac26-ad90241588bf",
   "metadata": {},
   "outputs": [
    {
     "name": "stdout",
     "output_type": "stream",
     "text": [
      "[0, 1, 1, 2, 3, 5, 8, 13, 21, 34]\n"
     ]
    }
   ],
   "source": [
    "def my_fibonacci(n):\n",
    "    fib_list = []\n",
    "    a,b = 0,1\n",
    "    for _ in range(n):\n",
    "        fib_list.append(a)\n",
    "        a,b = b,a+b\n",
    "    return fib_list\n",
    "    \n",
    "if __name__ == \"__main__\":\n",
    "    print(my_fibonacci(10))"
   ]
  },
  {
   "cell_type": "markdown",
   "id": "c8023f90-4240-4cbb-8672-47b3733e64b6",
   "metadata": {},
   "source": [
    "4. Write a Python Program to Check Armstrong Number?"
   ]
  },
  {
   "cell_type": "code",
   "execution_count": 1,
   "id": "a2127aec-76c2-4f8a-a42f-03ef710bf20e",
   "metadata": {},
   "outputs": [
    {
     "name": "stdin",
     "output_type": "stream",
     "text": [
      "Enter a number : 153\n"
     ]
    },
    {
     "name": "stdout",
     "output_type": "stream",
     "text": [
      "This is armstrong\n"
     ]
    }
   ],
   "source": [
    "number = input(\"Enter a number :\")\n",
    "power = len(number)\n",
    "new_total = sum(tuple(int(item)**power for item in number))\n",
    "if new_total == int(number):\n",
    "    print(\"This is armstrong\")\n",
    "else:\n",
    "    print(\"Not a armstrong\")"
   ]
  },
  {
   "cell_type": "markdown",
   "id": "75b88059-658d-4716-8485-d0292ba527f3",
   "metadata": {},
   "source": [
    "6. Write a Python Program to Find the Sum of Natural Numbers?"
   ]
  },
  {
   "cell_type": "code",
   "execution_count": 1,
   "id": "71eb22e0-0e55-4c3e-a3e1-a2b9385308c1",
   "metadata": {},
   "outputs": [
    {
     "name": "stdin",
     "output_type": "stream",
     "text": [
      "Enter a positive integer:  50\n"
     ]
    },
    {
     "name": "stdout",
     "output_type": "stream",
     "text": [
      "The sum of the first 50 natural numbers is: 1275\n"
     ]
    }
   ],
   "source": [
    "def sum_of_natural_numbers(n):\n",
    "    return n * (n + 1) // 2\n",
    "\n",
    "n = int(input(\"Enter a positive integer: \"))\n",
    "\n",
    "if n < 1:\n",
    "    print(\"Please enter a positive integer.\")\n",
    "else:\n",
    "    result = sum_of_natural_numbers(n)\n",
    "    print(f\"The sum of the first {n} natural numbers is: {result}\")\n",
    "    "
   ]
  },
  {
   "cell_type": "code",
   "execution_count": null,
   "id": "9ae7a4f0-2fc8-4a00-a477-14c7dfe9d1db",
   "metadata": {},
   "outputs": [],
   "source": []
  }
 ],
 "metadata": {
  "kernelspec": {
   "display_name": "Python [conda env:base] *",
   "language": "python",
   "name": "conda-base-py"
  },
  "language_info": {
   "codemirror_mode": {
    "name": "ipython",
    "version": 3
   },
   "file_extension": ".py",
   "mimetype": "text/x-python",
   "name": "python",
   "nbconvert_exporter": "python",
   "pygments_lexer": "ipython3",
   "version": "3.12.7"
  }
 },
 "nbformat": 4,
 "nbformat_minor": 5
}
